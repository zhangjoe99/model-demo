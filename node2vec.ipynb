{
 "cells": [
  {
   "cell_type": "code",
   "execution_count": 2,
   "metadata": {},
   "outputs": [],
   "source": [
    "import numpy as np\n",
    "import pandas as pd\n",
    "import json\n",
    "from pandas.io.json import json_normalize\n",
    "import boto3\n",
    "import json\n",
    "import seaborn as sns\n",
    "from matplotlib import pyplot as plt\n",
    "from collections import Counter\n",
    "import networkx as nx\n",
    "import re\n",
    "from node2vec import Node2Vec"
   ]
  },
  {
   "cell_type": "code",
   "execution_count": 91,
   "metadata": {},
   "outputs": [],
   "source": [
    "# from sagemaker import get_execution_role\n",
    "# role = get_execution_role()"
   ]
  },
  {
   "cell_type": "markdown",
   "metadata": {},
   "source": [
    "## Load Raw Data CSV from S3 into Pandas DataFrame"
   ]
  },
  {
   "cell_type": "code",
   "execution_count": 92,
   "metadata": {},
   "outputs": [],
   "source": [
    "#bucket = 'lndworkml'\n",
    "#conn = boto3.client('s3')\n",
    "#s3_clientobj = conn.get_object(Bucket=bucket, Key='knowledgegraphml/Bruce_4.csv')"
   ]
  },
  {
   "cell_type": "code",
   "execution_count": 4,
   "metadata": {},
   "outputs": [],
   "source": [
    "df = pd.concat(pd.read_excel('timestamp-data-5-25.xlsx', sheet_name=None), ignore_index=True)"
   ]
  },
  {
   "cell_type": "code",
   "execution_count": 5,
   "metadata": {},
   "outputs": [
    {
     "data": {
      "text/html": [
       "<div>\n",
       "<style scoped>\n",
       "    .dataframe tbody tr th:only-of-type {\n",
       "        vertical-align: middle;\n",
       "    }\n",
       "\n",
       "    .dataframe tbody tr th {\n",
       "        vertical-align: top;\n",
       "    }\n",
       "\n",
       "    .dataframe thead th {\n",
       "        text-align: right;\n",
       "    }\n",
       "</style>\n",
       "<table border=\"1\" class=\"dataframe\">\n",
       "  <thead>\n",
       "    <tr style=\"text-align: right;\">\n",
       "      <th></th>\n",
       "      <th>Podcast Title</th>\n",
       "      <th>Season</th>\n",
       "      <th>Episode #</th>\n",
       "      <th>Episode Title</th>\n",
       "      <th>Date of Episode</th>\n",
       "      <th>URL</th>\n",
       "      <th>Guest Name(s)</th>\n",
       "      <th>Timestamp</th>\n",
       "      <th>Clip Description</th>\n",
       "      <th>Topic</th>\n",
       "    </tr>\n",
       "  </thead>\n",
       "  <tbody>\n",
       "    <tr>\n",
       "      <th>0</th>\n",
       "      <td>Lightning Junkies</td>\n",
       "      <td>NaN</td>\n",
       "      <td>44.0</td>\n",
       "      <td>Exploring RBC w/ Giacomo Zucco</td>\n",
       "      <td>May 14th, 2021</td>\n",
       "      <td>https://anchor.fm/lightning-junkies/episodes/E...</td>\n",
       "      <td>Giacomo Zucco</td>\n",
       "      <td>00:00:00</td>\n",
       "      <td>Intro</td>\n",
       "      <td>NaN</td>\n",
       "    </tr>\n",
       "    <tr>\n",
       "      <th>1</th>\n",
       "      <td>Lightning Junkies</td>\n",
       "      <td>NaN</td>\n",
       "      <td>44.0</td>\n",
       "      <td>Exploring RBC w/ Giacomo Zucco</td>\n",
       "      <td>May 14th, 2021</td>\n",
       "      <td>https://anchor.fm/lightning-junkies/episodes/E...</td>\n",
       "      <td>Giacomo Zucco</td>\n",
       "      <td>00:03:27</td>\n",
       "      <td>What is [[RGB]]?</td>\n",
       "      <td>NaN</td>\n",
       "    </tr>\n",
       "    <tr>\n",
       "      <th>2</th>\n",
       "      <td>Lightning Junkies</td>\n",
       "      <td>NaN</td>\n",
       "      <td>44.0</td>\n",
       "      <td>Exploring RBC w/ Giacomo Zucco</td>\n",
       "      <td>May 14th, 2021</td>\n",
       "      <td>https://anchor.fm/lightning-junkies/episodes/E...</td>\n",
       "      <td>Giacomo Zucco</td>\n",
       "      <td>00:08:40</td>\n",
       "      <td>Why [[RGB]]?</td>\n",
       "      <td>NaN</td>\n",
       "    </tr>\n",
       "    <tr>\n",
       "      <th>3</th>\n",
       "      <td>Lightning Junkies</td>\n",
       "      <td>NaN</td>\n",
       "      <td>44.0</td>\n",
       "      <td>Exploring RBC w/ Giacomo Zucco</td>\n",
       "      <td>May 14th, 2021</td>\n",
       "      <td>https://anchor.fm/lightning-junkies/episodes/E...</td>\n",
       "      <td>Giacomo Zucco</td>\n",
       "      <td>00:15:23</td>\n",
       "      <td>Would [[RGB]] work better with [[Eltoo]]/[[SIG...</td>\n",
       "      <td>NaN</td>\n",
       "    </tr>\n",
       "    <tr>\n",
       "      <th>4</th>\n",
       "      <td>Lightning Junkies</td>\n",
       "      <td>NaN</td>\n",
       "      <td>44.0</td>\n",
       "      <td>Exploring RBC w/ Giacomo Zucco</td>\n",
       "      <td>May 14th, 2021</td>\n",
       "      <td>https://anchor.fm/lightning-junkies/episodes/E...</td>\n",
       "      <td>Giacomo Zucco</td>\n",
       "      <td>00:17:19</td>\n",
       "      <td>[[Transaction Fees]] on Bitcoin/ Could [[RGB]]...</td>\n",
       "      <td>NaN</td>\n",
       "    </tr>\n",
       "    <tr>\n",
       "      <th>...</th>\n",
       "      <td>...</td>\n",
       "      <td>...</td>\n",
       "      <td>...</td>\n",
       "      <td>...</td>\n",
       "      <td>...</td>\n",
       "      <td>...</td>\n",
       "      <td>...</td>\n",
       "      <td>...</td>\n",
       "      <td>...</td>\n",
       "      <td>...</td>\n",
       "    </tr>\n",
       "    <tr>\n",
       "      <th>20152</th>\n",
       "      <td>Bitcoin Explained - The Technical Side of Bitcoin</td>\n",
       "      <td>NaN</td>\n",
       "      <td>1.0</td>\n",
       "      <td>Explaining New PSBT and RBF Attacks</td>\n",
       "      <td>Sep 22nd, 2020</td>\n",
       "      <td>https://podcasts.apple.com/nl/podcast/explaini...</td>\n",
       "      <td>NaN</td>\n",
       "      <td>00:26:22</td>\n",
       "      <td>NaN</td>\n",
       "      <td>Ongoing debate to make it deliberately unsafe ...</td>\n",
       "    </tr>\n",
       "    <tr>\n",
       "      <th>20153</th>\n",
       "      <td>Bitcoin Explained - The Technical Side of Bitcoin</td>\n",
       "      <td>NaN</td>\n",
       "      <td>1.0</td>\n",
       "      <td>Explaining New PSBT and RBF Attacks</td>\n",
       "      <td>Sep 22nd, 2020</td>\n",
       "      <td>https://podcasts.apple.com/nl/podcast/explaini...</td>\n",
       "      <td>NaN</td>\n",
       "      <td>00:31:23</td>\n",
       "      <td>NaN</td>\n",
       "      <td>[[Bitcoin Core]]'s workaround to not allow spe...</td>\n",
       "    </tr>\n",
       "    <tr>\n",
       "      <th>20154</th>\n",
       "      <td>Bitcoin Explained - The Technical Side of Bitcoin</td>\n",
       "      <td>NaN</td>\n",
       "      <td>1.0</td>\n",
       "      <td>Explaining New PSBT and RBF Attacks</td>\n",
       "      <td>Sep 22nd, 2020</td>\n",
       "      <td>https://podcasts.apple.com/nl/podcast/explaini...</td>\n",
       "      <td>NaN</td>\n",
       "      <td>00:33:26</td>\n",
       "      <td>NaN</td>\n",
       "      <td>Using security vulnerabilities as a marketing ...</td>\n",
       "    </tr>\n",
       "    <tr>\n",
       "      <th>20155</th>\n",
       "      <td>Bitcoin Explained - The Technical Side of Bitcoin</td>\n",
       "      <td>NaN</td>\n",
       "      <td>NaN</td>\n",
       "      <td>NaN</td>\n",
       "      <td>NaN</td>\n",
       "      <td>NaN</td>\n",
       "      <td>NaN</td>\n",
       "      <td>NaN</td>\n",
       "      <td>NaN</td>\n",
       "      <td>NaN</td>\n",
       "    </tr>\n",
       "    <tr>\n",
       "      <th>20156</th>\n",
       "      <td>Bitcoin Explained - The Technical Side of Bitcoin</td>\n",
       "      <td>NaN</td>\n",
       "      <td>NaN</td>\n",
       "      <td>NaN</td>\n",
       "      <td>NaN</td>\n",
       "      <td>NaN</td>\n",
       "      <td>NaN</td>\n",
       "      <td>NaN</td>\n",
       "      <td>NaN</td>\n",
       "      <td>NaN</td>\n",
       "    </tr>\n",
       "  </tbody>\n",
       "</table>\n",
       "<p>20157 rows × 10 columns</p>\n",
       "</div>"
      ],
      "text/plain": [
       "                                           Podcast Title  Season Episode #  \\\n",
       "0                                      Lightning Junkies     NaN      44.0   \n",
       "1                                      Lightning Junkies     NaN      44.0   \n",
       "2                                      Lightning Junkies     NaN      44.0   \n",
       "3                                      Lightning Junkies     NaN      44.0   \n",
       "4                                      Lightning Junkies     NaN      44.0   \n",
       "...                                                  ...     ...       ...   \n",
       "20152  Bitcoin Explained - The Technical Side of Bitcoin     NaN       1.0   \n",
       "20153  Bitcoin Explained - The Technical Side of Bitcoin     NaN       1.0   \n",
       "20154  Bitcoin Explained - The Technical Side of Bitcoin     NaN       1.0   \n",
       "20155  Bitcoin Explained - The Technical Side of Bitcoin     NaN       NaN   \n",
       "20156  Bitcoin Explained - The Technical Side of Bitcoin     NaN       NaN   \n",
       "\n",
       "                             Episode Title Date of Episode  \\\n",
       "0           Exploring RBC w/ Giacomo Zucco  May 14th, 2021   \n",
       "1           Exploring RBC w/ Giacomo Zucco  May 14th, 2021   \n",
       "2           Exploring RBC w/ Giacomo Zucco  May 14th, 2021   \n",
       "3           Exploring RBC w/ Giacomo Zucco  May 14th, 2021   \n",
       "4           Exploring RBC w/ Giacomo Zucco  May 14th, 2021   \n",
       "...                                    ...             ...   \n",
       "20152  Explaining New PSBT and RBF Attacks  Sep 22nd, 2020   \n",
       "20153  Explaining New PSBT and RBF Attacks  Sep 22nd, 2020   \n",
       "20154  Explaining New PSBT and RBF Attacks  Sep 22nd, 2020   \n",
       "20155                                  NaN             NaN   \n",
       "20156                                  NaN             NaN   \n",
       "\n",
       "                                                     URL  Guest Name(s)  \\\n",
       "0      https://anchor.fm/lightning-junkies/episodes/E...  Giacomo Zucco   \n",
       "1      https://anchor.fm/lightning-junkies/episodes/E...  Giacomo Zucco   \n",
       "2      https://anchor.fm/lightning-junkies/episodes/E...  Giacomo Zucco   \n",
       "3      https://anchor.fm/lightning-junkies/episodes/E...  Giacomo Zucco   \n",
       "4      https://anchor.fm/lightning-junkies/episodes/E...  Giacomo Zucco   \n",
       "...                                                  ...            ...   \n",
       "20152  https://podcasts.apple.com/nl/podcast/explaini...            NaN   \n",
       "20153  https://podcasts.apple.com/nl/podcast/explaini...            NaN   \n",
       "20154  https://podcasts.apple.com/nl/podcast/explaini...            NaN   \n",
       "20155                                                NaN            NaN   \n",
       "20156                                                NaN            NaN   \n",
       "\n",
       "      Timestamp                                   Clip Description  \\\n",
       "0      00:00:00                                              Intro   \n",
       "1      00:03:27                                   What is [[RGB]]?   \n",
       "2      00:08:40                                       Why [[RGB]]?   \n",
       "3      00:15:23  Would [[RGB]] work better with [[Eltoo]]/[[SIG...   \n",
       "4      00:17:19  [[Transaction Fees]] on Bitcoin/ Could [[RGB]]...   \n",
       "...         ...                                                ...   \n",
       "20152  00:26:22                                                NaN   \n",
       "20153  00:31:23                                                NaN   \n",
       "20154  00:33:26                                                NaN   \n",
       "20155       NaN                                                NaN   \n",
       "20156       NaN                                                NaN   \n",
       "\n",
       "                                                   Topic  \n",
       "0                                                    NaN  \n",
       "1                                                    NaN  \n",
       "2                                                    NaN  \n",
       "3                                                    NaN  \n",
       "4                                                    NaN  \n",
       "...                                                  ...  \n",
       "20152  Ongoing debate to make it deliberately unsafe ...  \n",
       "20153  [[Bitcoin Core]]'s workaround to not allow spe...  \n",
       "20154  Using security vulnerabilities as a marketing ...  \n",
       "20155                                                NaN  \n",
       "20156                                                NaN  \n",
       "\n",
       "[20157 rows x 10 columns]"
      ]
     },
     "execution_count": 5,
     "metadata": {},
     "output_type": "execute_result"
    }
   ],
   "source": [
    "df"
   ]
  },
  {
   "cell_type": "code",
   "execution_count": 6,
   "metadata": {},
   "outputs": [
    {
     "data": {
      "text/plain": [
       "Index(['Podcast Title', 'Season', 'Episode #', 'Episode Title',\n",
       "       'Date of Episode', 'URL', 'Guest Name(s)', 'Timestamp',\n",
       "       'Clip Description', 'Topic'],\n",
       "      dtype='object')"
      ]
     },
     "execution_count": 6,
     "metadata": {},
     "output_type": "execute_result"
    }
   ],
   "source": [
    "df.columns"
   ]
  },
  {
   "cell_type": "markdown",
   "metadata": {},
   "source": [
    "## Parse Out Topic Nodes and Indexed Content Nodes"
   ]
  },
  {
   "cell_type": "code",
   "execution_count": 7,
   "metadata": {},
   "outputs": [],
   "source": [
    "indexed_content_nodes = []\n",
    "topic_nodes = []\n",
    "edge_tuples = []\n",
    "\n",
    "for index, row in df.iterrows():\n",
    "    if  index == df.index[-1]:\n",
    "        indexed_content_title = f\"{row['Timestamp']}-end, {row['URL']} \"\n",
    "    else:\n",
    "        indexed_content_title = f\"{row['Timestamp']}-{df.iloc[index+1]['Timestamp']}, {row['URL']} \"\n",
    "    indexed_content_nodes.append(indexed_content_title)\n",
    "    res = re.findall('(?<=\\[\\[)([^\\[\\]]*)(?=\\]\\])', str(row['Clip Description']))\n",
    "    topic_nodes_lowercase = list((map(lambda x: x.lower(), res)))\n",
    "    topic_nodes.extend(topic_nodes_lowercase)\n",
    "    for top in topic_nodes_lowercase:\n",
    "        edge_tuples.append((indexed_content_title, top))\n",
    "        "
   ]
  },
  {
   "cell_type": "code",
   "execution_count": 8,
   "metadata": {},
   "outputs": [],
   "source": [
    "B = nx.Graph()\n",
    "B.add_nodes_from(list(set(indexed_content_nodes)), bipartite=0)\n",
    "B.add_nodes_from(list(set(topic_nodes)), bipartite=1)"
   ]
  },
  {
   "cell_type": "code",
   "execution_count": 9,
   "metadata": {},
   "outputs": [
    {
     "data": {
      "text/plain": [
       "['00:03:26-00:03:53, https://www.youtube.com/watch?v=-yiTtO_p3Cw ',\n",
       " '00:03:53-00:05:41, https://www.youtube.com/watch?v=-yiTtO_p3Cw ',\n",
       " '00:05:41-00:06:19, https://www.youtube.com/watch?v=-yiTtO_p3Cw ',\n",
       " '00:06:19-00:00:00, https://www.youtube.com/watch?v=-yiTtO_p3Cw ',\n",
       " '00:00:00-00:04:13, https://podcasts.apple.com/us/podcast/stablecoin-lunacy-with-brad-mills/id1261133600?i=1000561495707 ',\n",
       " '00:04:13-00:05:46, https://podcasts.apple.com/us/podcast/stablecoin-lunacy-with-brad-mills/id1261133600?i=1000561495707 ',\n",
       " '00:05:46-00:06:37, https://podcasts.apple.com/us/podcast/stablecoin-lunacy-with-brad-mills/id1261133600?i=1000561495707 ',\n",
       " '00:06:37-00:12:47, https://podcasts.apple.com/us/podcast/stablecoin-lunacy-with-brad-mills/id1261133600?i=1000561495707 ',\n",
       " '00:12:47-00:13:46, https://podcasts.apple.com/us/podcast/stablecoin-lunacy-with-brad-mills/id1261133600?i=1000561495707 ',\n",
       " '00:13:46-00:17:53, https://podcasts.apple.com/us/podcast/stablecoin-lunacy-with-brad-mills/id1261133600?i=1000561495707 ',\n",
       " '00:17:53-00:20:15, https://podcasts.apple.com/us/podcast/stablecoin-lunacy-with-brad-mills/id1261133600?i=1000561495707 ',\n",
       " '00:20:15-00:22:55, https://podcasts.apple.com/us/podcast/stablecoin-lunacy-with-brad-mills/id1261133600?i=1000561495707 ',\n",
       " '00:22:55-00:23:59, https://podcasts.apple.com/us/podcast/stablecoin-lunacy-with-brad-mills/id1261133600?i=1000561495707 ',\n",
       " '00:23:59-00:25:11, https://podcasts.apple.com/us/podcast/stablecoin-lunacy-with-brad-mills/id1261133600?i=1000561495707 ',\n",
       " '00:25:11-00:26:34, https://podcasts.apple.com/us/podcast/stablecoin-lunacy-with-brad-mills/id1261133600?i=1000561495707 ',\n",
       " '00:26:34-00:28:48, https://podcasts.apple.com/us/podcast/stablecoin-lunacy-with-brad-mills/id1261133600?i=1000561495707 ',\n",
       " '00:28:48-00:30:20, https://podcasts.apple.com/us/podcast/stablecoin-lunacy-with-brad-mills/id1261133600?i=1000561495707 ',\n",
       " '00:30:20-00:31:14, https://podcasts.apple.com/us/podcast/stablecoin-lunacy-with-brad-mills/id1261133600?i=1000561495707 ',\n",
       " '00:31:14-00:32:30, https://podcasts.apple.com/us/podcast/stablecoin-lunacy-with-brad-mills/id1261133600?i=1000561495707 ',\n",
       " '00:32:30-00:36:28, https://podcasts.apple.com/us/podcast/stablecoin-lunacy-with-brad-mills/id1261133600?i=1000561495707 ']"
      ]
     },
     "execution_count": 9,
     "metadata": {},
     "output_type": "execute_result"
    }
   ],
   "source": [
    "indexed_content_nodes[20:40]"
   ]
  },
  {
   "cell_type": "code",
   "execution_count": 10,
   "metadata": {},
   "outputs": [],
   "source": [
    "B.add_edges_from(edge_tuples)"
   ]
  },
  {
   "cell_type": "code",
   "execution_count": 10,
   "metadata": {},
   "outputs": [
    {
     "data": {
      "text/plain": [
       "<networkx.classes.graph.Graph at 0x15f14bb20>"
      ]
     },
     "execution_count": 10,
     "metadata": {},
     "output_type": "execute_result"
    }
   ],
   "source": [
    "B"
   ]
  },
  {
   "cell_type": "code",
   "execution_count": 11,
   "metadata": {},
   "outputs": [
    {
     "name": "stderr",
     "output_type": "stream",
     "text": [
      "C:\\Users\\zhang\\AppData\\Local\\Temp\\ipykernel_21924\\770005836.py:1: DeprecationWarning: info is deprecated and will be removed in version 3.0.\n",
      "\n",
      "  nx.info(B)\n"
     ]
    },
    {
     "data": {
      "text/plain": [
       "'Graph with 27774 nodes and 20641 edges'"
      ]
     },
     "execution_count": 11,
     "metadata": {},
     "output_type": "execute_result"
    }
   ],
   "source": [
    "nx.info(B)"
   ]
  },
  {
   "cell_type": "markdown",
   "metadata": {},
   "source": [
    "## Neighbor Search for a Topic"
   ]
  },
  {
   "cell_type": "code",
   "execution_count": 12,
   "metadata": {},
   "outputs": [],
   "source": [
    "for e in B.edges('ghj'):\n",
    "    print(e[1])"
   ]
  },
  {
   "cell_type": "markdown",
   "metadata": {},
   "source": [
    "## Embed Graph Using Node2Vec and Get Similarity Score"
   ]
  },
  {
   "cell_type": "code",
   "execution_count": 13,
   "metadata": {},
   "outputs": [
    {
     "data": {
      "application/vnd.jupyter.widget-view+json": {
       "model_id": "5a93a27a6d6749b2b1ca1ef856491dee",
       "version_major": 2,
       "version_minor": 0
      },
      "text/plain": [
       "Computing transition probabilities:   0%|          | 0/27774 [00:00<?, ?it/s]"
      ]
     },
     "metadata": {},
     "output_type": "display_data"
    }
   ],
   "source": [
    "node2vec = Node2Vec(B, dimensions=64, walk_length=5, num_walks=200, workers=4)  "
   ]
  },
  {
   "cell_type": "code",
   "execution_count": 14,
   "metadata": {},
   "outputs": [],
   "source": [
    "# WAIT!!!!!\n",
    "\n",
    "model = node2vec.fit(window=10, min_count=1, batch_words=4)"
   ]
  },
  {
   "cell_type": "code",
   "execution_count": 15,
   "metadata": {},
   "outputs": [],
   "source": [
    "model.save(\"word2vec.model\")"
   ]
  },
  {
   "cell_type": "code",
   "execution_count": 234,
   "metadata": {},
   "outputs": [
    {
     "name": "stdout",
     "output_type": "stream",
     "text": [
      "00:20:44-00:21:25, https://podcasts.apple.com/us/podcast/is-algorand-the-future-of-finance/id1261133600?i=1000552767016 \n",
      "00:41:03-00:48:36, https://noded.org/podcast/noded-0450-bitstein-on-the-bitcoin-echo-chamber-podcast-with-heavily-armed-clown/ \n",
      "lightcoin\n",
      "00:10:00-00:13:29, https://podcasts.apple.com/us/podcast/trey-griffith-from-sparkswap-lnj04/id1477726305?i=1000451757320 \n",
      "00:56:07-00:58:58, https://podcasts.apple.com/us/podcast/guys-take-49-backed-by-truth/id1359544516?i=1000531279477 \n",
      "00:33:39-00:44:50, nan \n",
      "00:12:12-00:13:14, https://podcasts.apple.com/us/podcast/read-540-bitcoin-the-american-idea-alex-gladstein/id1359544516?i=1000527920941 \n",
      "01:03:30-01:05:15, https://podcasts.apple.com/us/podcast/read-540-bitcoin-the-american-idea-alex-gladstein/id1359544516?i=1000527920941 \n",
      "00:25:21-00:27:54, https://onthebrink-podcast.com/iris/ \n",
      "00:28:29-00:34:22, https://www.whatbitcoindid.com/podcast/the-breakdown-of-trust \n"
     ]
    }
   ],
   "source": [
    "# for node in model.wv.most_similar('atomic swap'):\n",
    "#     print(node[0])"
   ]
  }
 ],
 "metadata": {
  "instance_type": "ml.t3.medium",
  "kernelspec": {
   "display_name": "Python 3.10.4 64-bit",
   "language": "python",
   "name": "python3"
  },
  "language_info": {
   "codemirror_mode": {
    "name": "ipython",
    "version": 3
   },
   "file_extension": ".py",
   "mimetype": "text/x-python",
   "name": "python",
   "nbconvert_exporter": "python",
   "pygments_lexer": "ipython3",
   "version": "3.10.4"
  },
  "vscode": {
   "interpreter": {
    "hash": "b8bea28108f2038d71d6c55dc1832caea8e99369792fc8ba76ab47212ed27435"
   }
  }
 },
 "nbformat": 4,
 "nbformat_minor": 4
}
